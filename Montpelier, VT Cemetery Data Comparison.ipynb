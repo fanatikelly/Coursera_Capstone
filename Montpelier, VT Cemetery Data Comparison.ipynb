{
    "cells": [
        {
            "cell_type": "code",
            "execution_count": 39,
            "metadata": {},
            "outputs": [
                {
                    "name": "stdout",
                    "output_type": "stream",
                    "text": "all libraries have been imported\n"
                }
            ],
            "source": "import numpy as np\nimport pandas as pd\nimport json\nprint('all libraries have been imported')"
        },
        {
            "cell_type": "code",
            "execution_count": 4,
            "metadata": {},
            "outputs": [
                {
                    "name": "stdout",
                    "output_type": "stream",
                    "text": "Solving environment: done\n\n## Package Plan ##\n\n  environment location: /opt/conda/envs/Python36\n\n  added / updated specs: \n    - geopy\n\n\nThe following packages will be downloaded:\n\n    package                    |            build\n    ---------------------------|-----------------\n    geographiclib-1.50         |             py_0          34 KB  conda-forge\n    python_abi-3.6             |          1_cp36m           4 KB  conda-forge\n    openssl-1.1.1g             |       h516909a_1         2.1 MB  conda-forge\n    ca-certificates-2020.6.20  |       hecda079_0         145 KB  conda-forge\n    certifi-2020.6.20          |   py36h9f0ad1d_0         151 KB  conda-forge\n    geopy-2.0.0                |     pyh9f0ad1d_0          63 KB  conda-forge\n    ------------------------------------------------------------\n                                           Total:         2.5 MB\n\nThe following NEW packages will be INSTALLED:\n\n    geographiclib:   1.50-py_0          conda-forge\n    geopy:           2.0.0-pyh9f0ad1d_0 conda-forge\n    python_abi:      3.6-1_cp36m        conda-forge\n\nThe following packages will be UPDATED:\n\n    certifi:         2020.6.20-py36_0               --> 2020.6.20-py36h9f0ad1d_0 conda-forge\n    openssl:         1.1.1g-h7b6447c_0              --> 1.1.1g-h516909a_1        conda-forge\n\nThe following packages will be DOWNGRADED:\n\n    ca-certificates: 2020.6.24-0                    --> 2020.6.20-hecda079_0     conda-forge\n\n\nDownloading and Extracting Packages\ngeographiclib-1.50   | 34 KB     | ##################################### | 100% \npython_abi-3.6       | 4 KB      | ##################################### | 100% \nopenssl-1.1.1g       | 2.1 MB    | ##################################### | 100% \nca-certificates-2020 | 145 KB    | ##################################### | 100% \ncertifi-2020.6.20    | 151 KB    | ##################################### | 100% \ngeopy-2.0.0          | 63 KB     | ##################################### | 100% \nPreparing transaction: done\nVerifying transaction: done\nExecuting transaction: done\n"
                }
            ],
            "source": "!conda install -c conda-forge geopy --yes\nfrom geopy.geocoders import Nominatim"
        },
        {
            "cell_type": "code",
            "execution_count": 37,
            "metadata": {},
            "outputs": [
                {
                    "name": "stdout",
                    "output_type": "stream",
                    "text": "requests and jsonnormalize have been imported\n"
                }
            ],
            "source": "import requests\nfrom pandas.io.json import json_normalize\nprint(\"requests and jsonnormalize have been imported\")"
        },
        {
            "cell_type": "code",
            "execution_count": 40,
            "metadata": {},
            "outputs": [
                {
                    "name": "stdout",
                    "output_type": "stream",
                    "text": "matpltlib imported\n"
                }
            ],
            "source": "import matplotlib.cm as cm\nimport matplotlib.colors as colors\nprint(\"matpltlib imported\")"
        },
        {
            "cell_type": "code",
            "execution_count": 41,
            "metadata": {},
            "outputs": [
                {
                    "name": "stdout",
                    "output_type": "stream",
                    "text": "kmeans has been imported\n"
                }
            ],
            "source": "from sklearn.cluster import KMeans\nprint('kmeans has been imported')"
        },
        {
            "cell_type": "code",
            "execution_count": 42,
            "metadata": {},
            "outputs": [
                {
                    "name": "stdout",
                    "output_type": "stream",
                    "text": "Solving environment: done\n\n## Package Plan ##\n\n  environment location: /opt/conda/envs/Python36\n\n  added / updated specs: \n    - folium=0.5.0\n\n\nThe following packages will be downloaded:\n\n    package                    |            build\n    ---------------------------|-----------------\n    branca-0.4.1               |             py_0          26 KB  conda-forge\n    vincent-0.4.4              |             py_1          28 KB  conda-forge\n    altair-4.1.0               |             py_1         614 KB  conda-forge\n    folium-0.5.0               |             py_0          45 KB  conda-forge\n    ------------------------------------------------------------\n                                           Total:         713 KB\n\nThe following NEW packages will be INSTALLED:\n\n    altair:  4.1.0-py_1 conda-forge\n    branca:  0.4.1-py_0 conda-forge\n    folium:  0.5.0-py_0 conda-forge\n    vincent: 0.4.4-py_1 conda-forge\n\n\nDownloading and Extracting Packages\nbranca-0.4.1         | 26 KB     | ##################################### | 100% \nvincent-0.4.4        | 28 KB     | ##################################### | 100% \naltair-4.1.0         | 614 KB    | ##################################### | 100% \nfolium-0.5.0         | 45 KB     | ##################################### | 100% \nPreparing transaction: done\nVerifying transaction: done\nExecuting transaction: done\nfolium imported\n"
                }
            ],
            "source": "!conda install -c conda-forge folium=0.5.0 --yes\nimport folium\nprint('folium imported')"
        },
        {
            "cell_type": "code",
            "execution_count": 43,
            "metadata": {},
            "outputs": [
                {
                    "name": "stdout",
                    "output_type": "stream",
                    "text": "data downloaded\n"
                }
            ],
            "source": "!wget -q -O 'landmarks.geojson' 'http://geodata.vermont.gov/datasets/000401683c064d90904f05600f8cf3b8_24.geojson'\nprint('data downloaded')"
        },
        {
            "cell_type": "markdown",
            "metadata": {},
            "source": "## LOAD AND EXPLORE VERMONT BOUNDARY DATA"
        },
        {
            "cell_type": "code",
            "execution_count": 44,
            "metadata": {},
            "outputs": [],
            "source": "with open('landmarks.geojson')as json_data:\n    landmarks = json.load(json_data)\n#landmarks"
        },
        {
            "cell_type": "markdown",
            "metadata": {},
            "source": "## CREATING A NEW VARIABLE LISTING ALL RELEVANT DATA "
        },
        {
            "cell_type": "code",
            "execution_count": 45,
            "metadata": {},
            "outputs": [],
            "source": "landmark_data = landmarks['features']"
        },
        {
            "cell_type": "code",
            "execution_count": 46,
            "metadata": {},
            "outputs": [],
            "source": "#landmark_data"
        },
        {
            "cell_type": "markdown",
            "metadata": {},
            "source": "TRANSFORMING INTO A DATAFRAME"
        },
        {
            "cell_type": "code",
            "execution_count": 47,
            "metadata": {},
            "outputs": [],
            "source": "column_names = ['LandMark_Name', 'Town_Name', 'Latitude', 'Longitude']"
        },
        {
            "cell_type": "code",
            "execution_count": 48,
            "metadata": {},
            "outputs": [],
            "source": "landmarks = pd.DataFrame(columns = column_names)"
        },
        {
            "cell_type": "code",
            "execution_count": 49,
            "metadata": {},
            "outputs": [
                {
                    "data": {
                        "text/html": "<div>\n<style scoped>\n    .dataframe tbody tr th:only-of-type {\n        vertical-align: middle;\n    }\n\n    .dataframe tbody tr th {\n        vertical-align: top;\n    }\n\n    .dataframe thead th {\n        text-align: right;\n    }\n</style>\n<table border=\"1\" class=\"dataframe\">\n  <thead>\n    <tr style=\"text-align: right;\">\n      <th></th>\n      <th>LandMark_Name</th>\n      <th>Town_Name</th>\n      <th>Latitude</th>\n      <th>Longitude</th>\n    </tr>\n  </thead>\n  <tbody>\n  </tbody>\n</table>\n</div>",
                        "text/plain": "Empty DataFrame\nColumns: [LandMark_Name, Town_Name, Latitude, Longitude]\nIndex: []"
                    },
                    "execution_count": 49,
                    "metadata": {},
                    "output_type": "execute_result"
                }
            ],
            "source": "landmarks.head()"
        },
        {
            "cell_type": "markdown",
            "metadata": {},
            "source": "## LOOPING THROUGH DATA AND FILLING ROWS"
        },
        {
            "cell_type": "code",
            "execution_count": 50,
            "metadata": {},
            "outputs": [
                {
                    "ename": "TypeError",
                    "evalue": "'NoneType' object is not subscriptable",
                    "output_type": "error",
                    "traceback": [
                        "\u001b[0;31m---------------------------------------------------------------------------\u001b[0m",
                        "\u001b[0;31mTypeError\u001b[0m                                 Traceback (most recent call last)",
                        "\u001b[0;32m<ipython-input-50-3188014c52e7>\u001b[0m in \u001b[0;36m<module>\u001b[0;34m\u001b[0m\n\u001b[1;32m      2\u001b[0m     \u001b[0mlandmark_name\u001b[0m \u001b[0;34m=\u001b[0m \u001b[0mdata\u001b[0m\u001b[0;34m[\u001b[0m\u001b[0;34m'properties'\u001b[0m\u001b[0;34m]\u001b[0m\u001b[0;34m[\u001b[0m\u001b[0;34m'NAME'\u001b[0m\u001b[0;34m]\u001b[0m\u001b[0;34m\u001b[0m\u001b[0;34m\u001b[0m\u001b[0m\n\u001b[1;32m      3\u001b[0m     \u001b[0mtown_name\u001b[0m \u001b[0;34m=\u001b[0m \u001b[0mdata\u001b[0m\u001b[0;34m[\u001b[0m\u001b[0;34m'properties'\u001b[0m\u001b[0;34m]\u001b[0m\u001b[0;34m[\u001b[0m\u001b[0;34m'TOWNNAME'\u001b[0m\u001b[0;34m]\u001b[0m\u001b[0;34m\u001b[0m\u001b[0;34m\u001b[0m\u001b[0m\n\u001b[0;32m----> 4\u001b[0;31m     \u001b[0mlandmark_latlon\u001b[0m \u001b[0;34m=\u001b[0m \u001b[0mdata\u001b[0m\u001b[0;34m[\u001b[0m\u001b[0;34m'geometry'\u001b[0m\u001b[0;34m]\u001b[0m\u001b[0;34m[\u001b[0m\u001b[0;34m'coordinates'\u001b[0m\u001b[0;34m]\u001b[0m\u001b[0;34m\u001b[0m\u001b[0;34m\u001b[0m\u001b[0m\n\u001b[0m\u001b[1;32m      5\u001b[0m     \u001b[0mlandmark_lat\u001b[0m \u001b[0;34m=\u001b[0m \u001b[0mlandmark_latlon\u001b[0m\u001b[0;34m[\u001b[0m\u001b[0;36m1\u001b[0m\u001b[0;34m]\u001b[0m\u001b[0;34m\u001b[0m\u001b[0;34m\u001b[0m\u001b[0m\n\u001b[1;32m      6\u001b[0m     \u001b[0mlandmark_lon\u001b[0m \u001b[0;34m=\u001b[0m \u001b[0mlandmark_latlon\u001b[0m\u001b[0;34m[\u001b[0m\u001b[0;36m0\u001b[0m\u001b[0;34m]\u001b[0m\u001b[0;34m\u001b[0m\u001b[0;34m\u001b[0m\u001b[0m\n",
                        "\u001b[0;31mTypeError\u001b[0m: 'NoneType' object is not subscriptable"
                    ]
                }
            ],
            "source": "for data in landmark_data:\n    landmark_name = data['properties']['NAME']\n    town_name = data['properties']['TOWNNAME']\n    landmark_latlon = data['geometry']['coordinates']\n    landmark_lat = landmark_latlon[1]\n    landmark_lon = landmark_latlon[0]\n    \n    landmarks = landmarks.append({'Landmark_Name':landmark_name, 'Town_Name':town_name, 'Latitude':landmark_lat, 'Longitude':landmark_lon}, ignore_index=True)\n\nlandmarks.head()"
        },
        {
            "cell_type": "code",
            "execution_count": 144,
            "metadata": {},
            "outputs": [
                {
                    "name": "stdout",
                    "output_type": "stream",
                    "text": "The dataframe has 8588 landmarks.\n"
                }
            ],
            "source": "print('The dataframe has {} landmarks.'.format(len(landmarks['Landmark_Name'].unique()), landmarks.shape[0]))"
        },
        {
            "cell_type": "code",
            "execution_count": 51,
            "metadata": {},
            "outputs": [
                {
                    "data": {
                        "text/html": "<div>\n<style scoped>\n    .dataframe tbody tr th:only-of-type {\n        vertical-align: middle;\n    }\n\n    .dataframe tbody tr th {\n        vertical-align: top;\n    }\n\n    .dataframe thead th {\n        text-align: right;\n    }\n</style>\n<table border=\"1\" class=\"dataframe\">\n  <thead>\n    <tr style=\"text-align: right;\">\n      <th></th>\n      <th>Town_Name</th>\n      <th>Latitude</th>\n      <th>Longitude</th>\n      <th>Landmark_Name</th>\n    </tr>\n  </thead>\n  <tbody>\n    <tr>\n      <th>0</th>\n      <td>RUTLAND CITY</td>\n      <td>43.593133</td>\n      <td>-72.985941</td>\n      <td>Moon Brook</td>\n    </tr>\n    <tr>\n      <th>1</th>\n      <td>NORTHFIELD</td>\n      <td>44.152570</td>\n      <td>-72.601220</td>\n      <td>Loomis Cemetery</td>\n    </tr>\n    <tr>\n      <th>2</th>\n      <td>MIDDLESEX</td>\n      <td>44.301271</td>\n      <td>-72.688325</td>\n      <td>MM 59</td>\n    </tr>\n    <tr>\n      <th>3</th>\n      <td>DORSET</td>\n      <td>43.258695</td>\n      <td>-73.025661</td>\n      <td>Freedley Quarry</td>\n    </tr>\n    <tr>\n      <th>4</th>\n      <td>SHELBURNE</td>\n      <td>44.373612</td>\n      <td>-73.224841</td>\n      <td>Shelburne Post Office</td>\n    </tr>\n  </tbody>\n</table>\n</div>",
                        "text/plain": "      Town_Name   Latitude  Longitude          Landmark_Name\n0  RUTLAND CITY  43.593133 -72.985941             Moon Brook\n1    NORTHFIELD  44.152570 -72.601220        Loomis Cemetery\n2     MIDDLESEX  44.301271 -72.688325                  MM 59\n3        DORSET  43.258695 -73.025661        Freedley Quarry\n4     SHELBURNE  44.373612 -73.224841  Shelburne Post Office"
                    },
                    "execution_count": 51,
                    "metadata": {},
                    "output_type": "execute_result"
                }
            ],
            "source": "landmarks = landmarks.drop('LandMark_Name', axis=1)\nlandmarks.head()"
        },
        {
            "cell_type": "markdown",
            "metadata": {},
            "source": "## For Data consumption sake, I am limiting the scope of this to Landmark Names - Montpelier "
        },
        {
            "cell_type": "code",
            "execution_count": 52,
            "metadata": {},
            "outputs": [
                {
                    "data": {
                        "text/html": "<div>\n<style scoped>\n    .dataframe tbody tr th:only-of-type {\n        vertical-align: middle;\n    }\n\n    .dataframe tbody tr th {\n        vertical-align: top;\n    }\n\n    .dataframe thead th {\n        text-align: right;\n    }\n</style>\n<table border=\"1\" class=\"dataframe\">\n  <thead>\n    <tr style=\"text-align: right;\">\n      <th></th>\n      <th>Town_Name</th>\n      <th>Latitude</th>\n      <th>Longitude</th>\n      <th>Landmark_Name</th>\n    </tr>\n  </thead>\n  <tbody>\n    <tr>\n      <th>1</th>\n      <td>NORTHFIELD</td>\n      <td>44.152570</td>\n      <td>-72.601220</td>\n      <td>Loomis Cemetery</td>\n    </tr>\n    <tr>\n      <th>11</th>\n      <td>SHEFFIELD</td>\n      <td>44.650241</td>\n      <td>-72.081923</td>\n      <td>Union House-King James Cemetery</td>\n    </tr>\n    <tr>\n      <th>13</th>\n      <td>FRANKLIN</td>\n      <td>44.998386</td>\n      <td>-72.866802</td>\n      <td>Prouty Cemetery</td>\n    </tr>\n    <tr>\n      <th>15</th>\n      <td>ADDISON</td>\n      <td>44.033399</td>\n      <td>-73.340401</td>\n      <td>Hindes Cemetery</td>\n    </tr>\n    <tr>\n      <th>23</th>\n      <td>RIPTON</td>\n      <td>43.956460</td>\n      <td>-72.981226</td>\n      <td>Kirby Cemetery</td>\n    </tr>\n  </tbody>\n</table>\n</div>",
                        "text/plain": "     Town_Name   Latitude  Longitude                    Landmark_Name\n1   NORTHFIELD  44.152570 -72.601220                  Loomis Cemetery\n11   SHEFFIELD  44.650241 -72.081923  Union House-King James Cemetery\n13    FRANKLIN  44.998386 -72.866802                  Prouty Cemetery\n15     ADDISON  44.033399 -73.340401                  Hindes Cemetery\n23      RIPTON  43.956460 -72.981226                   Kirby Cemetery"
                    },
                    "execution_count": 52,
                    "metadata": {},
                    "output_type": "execute_result"
                }
            ],
            "source": "mont_lan = landmarks[landmarks['Landmark_Name'].str.contains('Cemetery') == True]\nmont_lan.head()"
        },
        {
            "cell_type": "code",
            "execution_count": 53,
            "metadata": {},
            "outputs": [
                {
                    "name": "stdout",
                    "output_type": "stream",
                    "text": "The dataframe has 1079 landmarks.\n"
                }
            ],
            "source": "print('The dataframe has {} landmarks.'.format(len(mont_lan['Landmark_Name'].unique()), mont_lan.shape[0]))"
        },
        {
            "cell_type": "code",
            "execution_count": 54,
            "metadata": {},
            "outputs": [
                {
                    "data": {
                        "text/html": "<div>\n<style scoped>\n    .dataframe tbody tr th:only-of-type {\n        vertical-align: middle;\n    }\n\n    .dataframe tbody tr th {\n        vertical-align: top;\n    }\n\n    .dataframe thead th {\n        text-align: right;\n    }\n</style>\n<table border=\"1\" class=\"dataframe\">\n  <thead>\n    <tr style=\"text-align: right;\">\n      <th></th>\n      <th>index</th>\n      <th>Town_Name</th>\n      <th>Latitude</th>\n      <th>Longitude</th>\n      <th>Landmark_Name</th>\n    </tr>\n  </thead>\n  <tbody>\n    <tr>\n      <th>0</th>\n      <td>1</td>\n      <td>NORTHFIELD</td>\n      <td>44.152570</td>\n      <td>-72.601220</td>\n      <td>Loomis Cemetery</td>\n    </tr>\n    <tr>\n      <th>1</th>\n      <td>11</td>\n      <td>SHEFFIELD</td>\n      <td>44.650241</td>\n      <td>-72.081923</td>\n      <td>Union House-King James Cemetery</td>\n    </tr>\n    <tr>\n      <th>2</th>\n      <td>13</td>\n      <td>FRANKLIN</td>\n      <td>44.998386</td>\n      <td>-72.866802</td>\n      <td>Prouty Cemetery</td>\n    </tr>\n    <tr>\n      <th>3</th>\n      <td>15</td>\n      <td>ADDISON</td>\n      <td>44.033399</td>\n      <td>-73.340401</td>\n      <td>Hindes Cemetery</td>\n    </tr>\n    <tr>\n      <th>4</th>\n      <td>23</td>\n      <td>RIPTON</td>\n      <td>43.956460</td>\n      <td>-72.981226</td>\n      <td>Kirby Cemetery</td>\n    </tr>\n    <tr>\n      <th>5</th>\n      <td>36</td>\n      <td>POWNAL</td>\n      <td>42.754533</td>\n      <td>-73.228165</td>\n      <td>Joseph Barber Farm Cemetery</td>\n    </tr>\n    <tr>\n      <th>6</th>\n      <td>38</td>\n      <td>RUTLAND CITY</td>\n      <td>43.619131</td>\n      <td>-72.974860</td>\n      <td>North Main Cemetery</td>\n    </tr>\n    <tr>\n      <th>7</th>\n      <td>40</td>\n      <td>FAIRFIELD</td>\n      <td>44.814501</td>\n      <td>-72.904582</td>\n      <td>Morey Cemetery</td>\n    </tr>\n    <tr>\n      <th>8</th>\n      <td>47</td>\n      <td>GEORGIA</td>\n      <td>44.728667</td>\n      <td>-73.125416</td>\n      <td>Goodrich Cemetery</td>\n    </tr>\n    <tr>\n      <th>9</th>\n      <td>51</td>\n      <td>CAMBRIDGE</td>\n      <td>44.684503</td>\n      <td>-72.852910</td>\n      <td>North Cambridge Cemetery</td>\n    </tr>\n    <tr>\n      <th>10</th>\n      <td>52</td>\n      <td>ADDISON</td>\n      <td>44.031743</td>\n      <td>-73.306697</td>\n      <td>Southard Cemetery</td>\n    </tr>\n    <tr>\n      <th>11</th>\n      <td>60</td>\n      <td>DANBY</td>\n      <td>43.347860</td>\n      <td>-73.024828</td>\n      <td>Red School House Cemetery</td>\n    </tr>\n    <tr>\n      <th>12</th>\n      <td>64</td>\n      <td>CHELSEA</td>\n      <td>43.992297</td>\n      <td>-72.448712</td>\n      <td>Old Chelsea Cemetery</td>\n    </tr>\n    <tr>\n      <th>13</th>\n      <td>76</td>\n      <td>MORRISTOWN</td>\n      <td>44.580339</td>\n      <td>-72.600117</td>\n      <td>Plains-Green Lawn Cemetery</td>\n    </tr>\n    <tr>\n      <th>14</th>\n      <td>82</td>\n      <td>ESSEX JUNCTION VILLAGE</td>\n      <td>44.502003</td>\n      <td>-73.111240</td>\n      <td>Fairview Cemetery</td>\n    </tr>\n    <tr>\n      <th>15</th>\n      <td>88</td>\n      <td>RUPERT</td>\n      <td>43.306750</td>\n      <td>-73.227054</td>\n      <td>Graves Family Cemetery</td>\n    </tr>\n    <tr>\n      <th>16</th>\n      <td>89</td>\n      <td>HINESBURG</td>\n      <td>44.286175</td>\n      <td>-73.069846</td>\n      <td>McDonough Cemetery</td>\n    </tr>\n    <tr>\n      <th>17</th>\n      <td>93</td>\n      <td>DANBY</td>\n      <td>43.356193</td>\n      <td>-73.055106</td>\n      <td>Maple Grove Cemetery</td>\n    </tr>\n    <tr>\n      <th>18</th>\n      <td>116</td>\n      <td>GRAFTON</td>\n      <td>43.139531</td>\n      <td>-72.667872</td>\n      <td>Stiles Cemetery</td>\n    </tr>\n    <tr>\n      <th>19</th>\n      <td>122</td>\n      <td>STOWE</td>\n      <td>44.476062</td>\n      <td>-72.717175</td>\n      <td>West Branch Cemetery</td>\n    </tr>\n    <tr>\n      <th>20</th>\n      <td>127</td>\n      <td>SHARON</td>\n      <td>43.738639</td>\n      <td>-72.440376</td>\n      <td>Babcock Cemetery</td>\n    </tr>\n    <tr>\n      <th>21</th>\n      <td>133</td>\n      <td>MANCHESTER</td>\n      <td>43.175363</td>\n      <td>-73.016494</td>\n      <td>Oreb Taylor Family Cemetery</td>\n    </tr>\n    <tr>\n      <th>22</th>\n      <td>137</td>\n      <td>FAIRLEE</td>\n      <td>43.962854</td>\n      <td>-72.162036</td>\n      <td>Brushwood Cemetery</td>\n    </tr>\n    <tr>\n      <th>23</th>\n      <td>138</td>\n      <td>BRATTLEBORO</td>\n      <td>42.834257</td>\n      <td>-72.553980</td>\n      <td>Cotton Mill Hill Cemetery</td>\n    </tr>\n    <tr>\n      <th>24</th>\n      <td>140</td>\n      <td>GEORGIA</td>\n      <td>44.686167</td>\n      <td>-73.125970</td>\n      <td>Crown Cemetery</td>\n    </tr>\n    <tr>\n      <th>25</th>\n      <td>142</td>\n      <td>PANTON</td>\n      <td>44.150619</td>\n      <td>-73.363460</td>\n      <td>Adams Cemetery</td>\n    </tr>\n    <tr>\n      <th>26</th>\n      <td>145</td>\n      <td>HALIFAX</td>\n      <td>42.819834</td>\n      <td>-72.685658</td>\n      <td>Thomas Hill-Bell-Phelps Cemetery</td>\n    </tr>\n    <tr>\n      <th>27</th>\n      <td>154</td>\n      <td>ADDISON</td>\n      <td>44.084509</td>\n      <td>-73.302346</td>\n      <td>Grandview Cemetery</td>\n    </tr>\n    <tr>\n      <th>28</th>\n      <td>163</td>\n      <td>DERBY</td>\n      <td>44.886168</td>\n      <td>-72.127601</td>\n      <td>Crandall Cemetery</td>\n    </tr>\n    <tr>\n      <th>29</th>\n      <td>164</td>\n      <td>KILLINGTON</td>\n      <td>43.652855</td>\n      <td>-72.767603</td>\n      <td>Anthony Family Cemetery</td>\n    </tr>\n    <tr>\n      <th>...</th>\n      <td>...</td>\n      <td>...</td>\n      <td>...</td>\n      <td>...</td>\n      <td>...</td>\n    </tr>\n    <tr>\n      <th>1298</th>\n      <td>9718</td>\n      <td>HIGHGATE</td>\n      <td>44.930053</td>\n      <td>-72.998189</td>\n      <td>Hyde Cemetery</td>\n    </tr>\n    <tr>\n      <th>1299</th>\n      <td>9731</td>\n      <td>CANAAN</td>\n      <td>45.010452</td>\n      <td>-71.614055</td>\n      <td>Wallace Pond Cemetery</td>\n    </tr>\n    <tr>\n      <th>1300</th>\n      <td>9739</td>\n      <td>HYDE PARK</td>\n      <td>44.634227</td>\n      <td>-72.577060</td>\n      <td>Blake Cemetery</td>\n    </tr>\n    <tr>\n      <th>1301</th>\n      <td>9745</td>\n      <td>BRAINTREE</td>\n      <td>43.944805</td>\n      <td>-72.683901</td>\n      <td>Spear Cemetery</td>\n    </tr>\n    <tr>\n      <th>1302</th>\n      <td>9748</td>\n      <td>SAINT JOHNSBURY</td>\n      <td>44.450622</td>\n      <td>-71.938428</td>\n      <td>Grove Cemetery</td>\n    </tr>\n    <tr>\n      <th>1303</th>\n      <td>9749</td>\n      <td>TUNBRIDGE</td>\n      <td>43.868965</td>\n      <td>-72.537323</td>\n      <td>Ward Hill Cemetery</td>\n    </tr>\n    <tr>\n      <th>1304</th>\n      <td>9752</td>\n      <td>CANAAN</td>\n      <td>44.937556</td>\n      <td>-71.525086</td>\n      <td>Wilson Cemetery</td>\n    </tr>\n    <tr>\n      <th>1305</th>\n      <td>9760</td>\n      <td>SPRINGFIELD</td>\n      <td>43.314868</td>\n      <td>-72.500329</td>\n      <td>Saint Marys Cemetery</td>\n    </tr>\n    <tr>\n      <th>1306</th>\n      <td>9762</td>\n      <td>WOODSTOCK</td>\n      <td>43.619909</td>\n      <td>-72.535853</td>\n      <td>Riverside Cemetery</td>\n    </tr>\n    <tr>\n      <th>1307</th>\n      <td>9773</td>\n      <td>CABOT</td>\n      <td>44.401732</td>\n      <td>-72.320937</td>\n      <td>Cabot Village Cemetery</td>\n    </tr>\n    <tr>\n      <th>1308</th>\n      <td>9776</td>\n      <td>NEWBURY</td>\n      <td>44.059796</td>\n      <td>-72.124259</td>\n      <td>West Newbury Cemetery</td>\n    </tr>\n    <tr>\n      <th>1309</th>\n      <td>9778</td>\n      <td>SHOREHAM</td>\n      <td>43.885346</td>\n      <td>-73.330953</td>\n      <td>Saint Genevieve Cemetery</td>\n    </tr>\n    <tr>\n      <th>1310</th>\n      <td>9793</td>\n      <td>GRAND ISLE</td>\n      <td>44.715886</td>\n      <td>-73.326522</td>\n      <td>Quaker and Macomber Cemetery</td>\n    </tr>\n    <tr>\n      <th>1311</th>\n      <td>9801</td>\n      <td>WINHALL</td>\n      <td>43.144863</td>\n      <td>-72.878072</td>\n      <td>Bondville Cemetery</td>\n    </tr>\n    <tr>\n      <th>1312</th>\n      <td>9803</td>\n      <td>LONDONDERRY</td>\n      <td>43.221751</td>\n      <td>-72.764264</td>\n      <td>Lowell Lake Cemetery</td>\n    </tr>\n    <tr>\n      <th>1313</th>\n      <td>9816</td>\n      <td>WALDEN</td>\n      <td>44.467008</td>\n      <td>-72.306494</td>\n      <td>Houston Hill Cemetery</td>\n    </tr>\n    <tr>\n      <th>1314</th>\n      <td>9818</td>\n      <td>CHARLOTTE</td>\n      <td>44.301172</td>\n      <td>-73.254571</td>\n      <td>Barber Cemetery</td>\n    </tr>\n    <tr>\n      <th>1315</th>\n      <td>9830</td>\n      <td>BENSON</td>\n      <td>43.708834</td>\n      <td>-73.308381</td>\n      <td>Old Cemetery</td>\n    </tr>\n    <tr>\n      <th>1316</th>\n      <td>9832</td>\n      <td>CASTLETON</td>\n      <td>43.660352</td>\n      <td>-73.190390</td>\n      <td>Crystal Beach-Town Farm Cemetery</td>\n    </tr>\n    <tr>\n      <th>1317</th>\n      <td>9844</td>\n      <td>BRIDPORT</td>\n      <td>43.985623</td>\n      <td>-73.315399</td>\n      <td>Central Cemetery</td>\n    </tr>\n    <tr>\n      <th>1318</th>\n      <td>9847</td>\n      <td>CONCORD</td>\n      <td>44.400068</td>\n      <td>-71.860926</td>\n      <td>Frye Cemetery</td>\n    </tr>\n    <tr>\n      <th>1319</th>\n      <td>9849</td>\n      <td>GREENSBORO</td>\n      <td>44.579231</td>\n      <td>-72.290372</td>\n      <td>Village Cemetery</td>\n    </tr>\n    <tr>\n      <th>1320</th>\n      <td>9852</td>\n      <td>SHELBURNE</td>\n      <td>44.410893</td>\n      <td>-73.198183</td>\n      <td>Spear Street Cemetery</td>\n    </tr>\n    <tr>\n      <th>1321</th>\n      <td>9857</td>\n      <td>FRANKLIN</td>\n      <td>44.989219</td>\n      <td>-72.917911</td>\n      <td>Maple Grove Cemetery</td>\n    </tr>\n    <tr>\n      <th>1322</th>\n      <td>9862</td>\n      <td>GEORGIA</td>\n      <td>44.724500</td>\n      <td>-73.129027</td>\n      <td>Sabin Cemetery</td>\n    </tr>\n    <tr>\n      <th>1323</th>\n      <td>9874</td>\n      <td>ROCKINGHAM</td>\n      <td>43.210363</td>\n      <td>-72.534258</td>\n      <td>Williams River-Wright Cemetery</td>\n    </tr>\n    <tr>\n      <th>1324</th>\n      <td>9880</td>\n      <td>LUNENBURG</td>\n      <td>44.438569</td>\n      <td>-71.725261</td>\n      <td>Baptist Hill Cemetery</td>\n    </tr>\n    <tr>\n      <th>1325</th>\n      <td>9882</td>\n      <td>HOLLAND</td>\n      <td>44.943667</td>\n      <td>-72.008987</td>\n      <td>Mead Hill Cemetery</td>\n    </tr>\n    <tr>\n      <th>1326</th>\n      <td>9891</td>\n      <td>SHOREHAM</td>\n      <td>43.937846</td>\n      <td>-73.284009</td>\n      <td>Russell Cemetery</td>\n    </tr>\n    <tr>\n      <th>1327</th>\n      <td>9902</td>\n      <td>HIGHGATE</td>\n      <td>44.938108</td>\n      <td>-73.038188</td>\n      <td>Saint Louis Cemetery</td>\n    </tr>\n  </tbody>\n</table>\n<p>1328 rows \u00d7 5 columns</p>\n</div>",
                        "text/plain": "      index               Town_Name   Latitude  Longitude  \\\n0         1              NORTHFIELD  44.152570 -72.601220   \n1        11               SHEFFIELD  44.650241 -72.081923   \n2        13                FRANKLIN  44.998386 -72.866802   \n3        15                 ADDISON  44.033399 -73.340401   \n4        23                  RIPTON  43.956460 -72.981226   \n5        36                  POWNAL  42.754533 -73.228165   \n6        38            RUTLAND CITY  43.619131 -72.974860   \n7        40               FAIRFIELD  44.814501 -72.904582   \n8        47                 GEORGIA  44.728667 -73.125416   \n9        51               CAMBRIDGE  44.684503 -72.852910   \n10       52                 ADDISON  44.031743 -73.306697   \n11       60                   DANBY  43.347860 -73.024828   \n12       64                 CHELSEA  43.992297 -72.448712   \n13       76              MORRISTOWN  44.580339 -72.600117   \n14       82  ESSEX JUNCTION VILLAGE  44.502003 -73.111240   \n15       88                  RUPERT  43.306750 -73.227054   \n16       89               HINESBURG  44.286175 -73.069846   \n17       93                   DANBY  43.356193 -73.055106   \n18      116                 GRAFTON  43.139531 -72.667872   \n19      122                   STOWE  44.476062 -72.717175   \n20      127                  SHARON  43.738639 -72.440376   \n21      133              MANCHESTER  43.175363 -73.016494   \n22      137                 FAIRLEE  43.962854 -72.162036   \n23      138             BRATTLEBORO  42.834257 -72.553980   \n24      140                 GEORGIA  44.686167 -73.125970   \n25      142                  PANTON  44.150619 -73.363460   \n26      145                 HALIFAX  42.819834 -72.685658   \n27      154                 ADDISON  44.084509 -73.302346   \n28      163                   DERBY  44.886168 -72.127601   \n29      164              KILLINGTON  43.652855 -72.767603   \n...     ...                     ...        ...        ...   \n1298   9718                HIGHGATE  44.930053 -72.998189   \n1299   9731                  CANAAN  45.010452 -71.614055   \n1300   9739               HYDE PARK  44.634227 -72.577060   \n1301   9745               BRAINTREE  43.944805 -72.683901   \n1302   9748         SAINT JOHNSBURY  44.450622 -71.938428   \n1303   9749               TUNBRIDGE  43.868965 -72.537323   \n1304   9752                  CANAAN  44.937556 -71.525086   \n1305   9760             SPRINGFIELD  43.314868 -72.500329   \n1306   9762               WOODSTOCK  43.619909 -72.535853   \n1307   9773                   CABOT  44.401732 -72.320937   \n1308   9776                 NEWBURY  44.059796 -72.124259   \n1309   9778                SHOREHAM  43.885346 -73.330953   \n1310   9793              GRAND ISLE  44.715886 -73.326522   \n1311   9801                 WINHALL  43.144863 -72.878072   \n1312   9803             LONDONDERRY  43.221751 -72.764264   \n1313   9816                  WALDEN  44.467008 -72.306494   \n1314   9818               CHARLOTTE  44.301172 -73.254571   \n1315   9830                  BENSON  43.708834 -73.308381   \n1316   9832               CASTLETON  43.660352 -73.190390   \n1317   9844                BRIDPORT  43.985623 -73.315399   \n1318   9847                 CONCORD  44.400068 -71.860926   \n1319   9849              GREENSBORO  44.579231 -72.290372   \n1320   9852               SHELBURNE  44.410893 -73.198183   \n1321   9857                FRANKLIN  44.989219 -72.917911   \n1322   9862                 GEORGIA  44.724500 -73.129027   \n1323   9874              ROCKINGHAM  43.210363 -72.534258   \n1324   9880               LUNENBURG  44.438569 -71.725261   \n1325   9882                 HOLLAND  44.943667 -72.008987   \n1326   9891                SHOREHAM  43.937846 -73.284009   \n1327   9902                HIGHGATE  44.938108 -73.038188   \n\n                         Landmark_Name  \n0                      Loomis Cemetery  \n1      Union House-King James Cemetery  \n2                      Prouty Cemetery  \n3                      Hindes Cemetery  \n4                       Kirby Cemetery  \n5          Joseph Barber Farm Cemetery  \n6                  North Main Cemetery  \n7                       Morey Cemetery  \n8                    Goodrich Cemetery  \n9             North Cambridge Cemetery  \n10                   Southard Cemetery  \n11           Red School House Cemetery  \n12                Old Chelsea Cemetery  \n13          Plains-Green Lawn Cemetery  \n14                   Fairview Cemetery  \n15              Graves Family Cemetery  \n16                  McDonough Cemetery  \n17                Maple Grove Cemetery  \n18                     Stiles Cemetery  \n19                West Branch Cemetery  \n20                    Babcock Cemetery  \n21         Oreb Taylor Family Cemetery  \n22                  Brushwood Cemetery  \n23           Cotton Mill Hill Cemetery  \n24                      Crown Cemetery  \n25                      Adams Cemetery  \n26    Thomas Hill-Bell-Phelps Cemetery  \n27                  Grandview Cemetery  \n28                   Crandall Cemetery  \n29             Anthony Family Cemetery  \n...                                ...  \n1298                     Hyde Cemetery  \n1299             Wallace Pond Cemetery  \n1300                    Blake Cemetery  \n1301                    Spear Cemetery  \n1302                    Grove Cemetery  \n1303                Ward Hill Cemetery  \n1304                   Wilson Cemetery  \n1305              Saint Marys Cemetery  \n1306                Riverside Cemetery  \n1307            Cabot Village Cemetery  \n1308             West Newbury Cemetery  \n1309          Saint Genevieve Cemetery  \n1310      Quaker and Macomber Cemetery  \n1311                Bondville Cemetery  \n1312              Lowell Lake Cemetery  \n1313             Houston Hill Cemetery  \n1314                   Barber Cemetery  \n1315                      Old Cemetery  \n1316  Crystal Beach-Town Farm Cemetery  \n1317                  Central Cemetery  \n1318                     Frye Cemetery  \n1319                  Village Cemetery  \n1320             Spear Street Cemetery  \n1321              Maple Grove Cemetery  \n1322                    Sabin Cemetery  \n1323    Williams River-Wright Cemetery  \n1324             Baptist Hill Cemetery  \n1325                Mead Hill Cemetery  \n1326                  Russell Cemetery  \n1327              Saint Louis Cemetery  \n\n[1328 rows x 5 columns]"
                    },
                    "execution_count": 54,
                    "metadata": {},
                    "output_type": "execute_result"
                }
            ],
            "source": "mont_lan.reset_index()"
        },
        {
            "cell_type": "code",
            "execution_count": 107,
            "metadata": {},
            "outputs": [
                {
                    "data": {
                        "text/html": "<div>\n<style scoped>\n    .dataframe tbody tr th:only-of-type {\n        vertical-align: middle;\n    }\n\n    .dataframe tbody tr th {\n        vertical-align: top;\n    }\n\n    .dataframe thead th {\n        text-align: right;\n    }\n</style>\n<table border=\"1\" class=\"dataframe\">\n  <thead>\n    <tr style=\"text-align: right;\">\n      <th></th>\n      <th>Town_Name</th>\n      <th>Latitude</th>\n      <th>Longitude</th>\n      <th>Landmark_Name</th>\n    </tr>\n  </thead>\n  <tbody>\n    <tr>\n      <th>400</th>\n      <td>EAST MONTPELIER</td>\n      <td>44.284235</td>\n      <td>-72.452884</td>\n      <td>Cate Cemetery</td>\n    </tr>\n    <tr>\n      <th>625</th>\n      <td>EAST MONTPELIER</td>\n      <td>44.276735</td>\n      <td>-72.500385</td>\n      <td>Quake Cemetery</td>\n    </tr>\n    <tr>\n      <th>1894</th>\n      <td>MONTPELIER</td>\n      <td>44.264235</td>\n      <td>-72.563999</td>\n      <td>Saint Augustine Cemetery</td>\n    </tr>\n    <tr>\n      <th>2076</th>\n      <td>EAST MONTPELIER</td>\n      <td>44.320900</td>\n      <td>-72.504831</td>\n      <td>Peck Cemetery</td>\n    </tr>\n    <tr>\n      <th>3354</th>\n      <td>EAST MONTPELIER</td>\n      <td>44.272568</td>\n      <td>-72.555665</td>\n      <td>Cutler Cemetery</td>\n    </tr>\n    <tr>\n      <th>3547</th>\n      <td>EAST MONTPELIER</td>\n      <td>44.323678</td>\n      <td>-72.526221</td>\n      <td>Pike Cemetery</td>\n    </tr>\n    <tr>\n      <th>3848</th>\n      <td>EAST MONTPELIER</td>\n      <td>44.268456</td>\n      <td>-72.486947</td>\n      <td>East Montpelier Village Cemetery</td>\n    </tr>\n    <tr>\n      <th>4472</th>\n      <td>EAST MONTPELIER</td>\n      <td>44.274513</td>\n      <td>-72.451217</td>\n      <td>Plainmont Cemetery</td>\n    </tr>\n    <tr>\n      <th>4628</th>\n      <td>EAST MONTPELIER</td>\n      <td>44.268124</td>\n      <td>-72.504830</td>\n      <td>Bennett Cemetery</td>\n    </tr>\n    <tr>\n      <th>7042</th>\n      <td>MONTPELIER</td>\n      <td>44.257846</td>\n      <td>-72.596500</td>\n      <td>Green Mount Cemetery</td>\n    </tr>\n    <tr>\n      <th>8410</th>\n      <td>MONTPELIER</td>\n      <td>44.264220</td>\n      <td>-72.571222</td>\n      <td>Elm Street Cemetery</td>\n    </tr>\n    <tr>\n      <th>9629</th>\n      <td>EAST MONTPELIER</td>\n      <td>44.283957</td>\n      <td>-72.453162</td>\n      <td>Cate Cemetery</td>\n    </tr>\n  </tbody>\n</table>\n</div>",
                        "text/plain": "            Town_Name   Latitude  Longitude                     Landmark_Name\n400   EAST MONTPELIER  44.284235 -72.452884                     Cate Cemetery\n625   EAST MONTPELIER  44.276735 -72.500385                    Quake Cemetery\n1894       MONTPELIER  44.264235 -72.563999          Saint Augustine Cemetery\n2076  EAST MONTPELIER  44.320900 -72.504831                     Peck Cemetery\n3354  EAST MONTPELIER  44.272568 -72.555665                   Cutler Cemetery\n3547  EAST MONTPELIER  44.323678 -72.526221                     Pike Cemetery\n3848  EAST MONTPELIER  44.268456 -72.486947  East Montpelier Village Cemetery\n4472  EAST MONTPELIER  44.274513 -72.451217                Plainmont Cemetery\n4628  EAST MONTPELIER  44.268124 -72.504830                  Bennett Cemetery\n7042       MONTPELIER  44.257846 -72.596500              Green Mount Cemetery\n8410       MONTPELIER  44.264220 -72.571222               Elm Street Cemetery\n9629  EAST MONTPELIER  44.283957 -72.453162                     Cate Cemetery"
                    },
                    "execution_count": 107,
                    "metadata": {},
                    "output_type": "execute_result"
                }
            ],
            "source": "mont_top = mont_lan[mont_lan['Town_Name'].str.contains(\"MONTPELIER\")]\nmont_top"
        },
        {
            "cell_type": "code",
            "execution_count": 108,
            "metadata": {},
            "outputs": [
                {
                    "data": {
                        "text/html": "<div>\n<style scoped>\n    .dataframe tbody tr th:only-of-type {\n        vertical-align: middle;\n    }\n\n    .dataframe tbody tr th {\n        vertical-align: top;\n    }\n\n    .dataframe thead th {\n        text-align: right;\n    }\n</style>\n<table border=\"1\" class=\"dataframe\">\n  <thead>\n    <tr style=\"text-align: right;\">\n      <th></th>\n      <th>index</th>\n      <th>Town_Name</th>\n      <th>Latitude</th>\n      <th>Longitude</th>\n      <th>Landmark_Name</th>\n    </tr>\n  </thead>\n  <tbody>\n    <tr>\n      <th>0</th>\n      <td>400</td>\n      <td>EAST MONTPELIER</td>\n      <td>44.284235</td>\n      <td>-72.452884</td>\n      <td>Cate Cemetery</td>\n    </tr>\n    <tr>\n      <th>1</th>\n      <td>625</td>\n      <td>EAST MONTPELIER</td>\n      <td>44.276735</td>\n      <td>-72.500385</td>\n      <td>Quake Cemetery</td>\n    </tr>\n    <tr>\n      <th>2</th>\n      <td>1894</td>\n      <td>MONTPELIER</td>\n      <td>44.264235</td>\n      <td>-72.563999</td>\n      <td>Saint Augustine Cemetery</td>\n    </tr>\n    <tr>\n      <th>3</th>\n      <td>2076</td>\n      <td>EAST MONTPELIER</td>\n      <td>44.320900</td>\n      <td>-72.504831</td>\n      <td>Peck Cemetery</td>\n    </tr>\n    <tr>\n      <th>4</th>\n      <td>3354</td>\n      <td>EAST MONTPELIER</td>\n      <td>44.272568</td>\n      <td>-72.555665</td>\n      <td>Cutler Cemetery</td>\n    </tr>\n    <tr>\n      <th>5</th>\n      <td>3547</td>\n      <td>EAST MONTPELIER</td>\n      <td>44.323678</td>\n      <td>-72.526221</td>\n      <td>Pike Cemetery</td>\n    </tr>\n    <tr>\n      <th>6</th>\n      <td>3848</td>\n      <td>EAST MONTPELIER</td>\n      <td>44.268456</td>\n      <td>-72.486947</td>\n      <td>East Montpelier Village Cemetery</td>\n    </tr>\n    <tr>\n      <th>7</th>\n      <td>4472</td>\n      <td>EAST MONTPELIER</td>\n      <td>44.274513</td>\n      <td>-72.451217</td>\n      <td>Plainmont Cemetery</td>\n    </tr>\n    <tr>\n      <th>8</th>\n      <td>4628</td>\n      <td>EAST MONTPELIER</td>\n      <td>44.268124</td>\n      <td>-72.504830</td>\n      <td>Bennett Cemetery</td>\n    </tr>\n    <tr>\n      <th>9</th>\n      <td>7042</td>\n      <td>MONTPELIER</td>\n      <td>44.257846</td>\n      <td>-72.596500</td>\n      <td>Green Mount Cemetery</td>\n    </tr>\n    <tr>\n      <th>10</th>\n      <td>8410</td>\n      <td>MONTPELIER</td>\n      <td>44.264220</td>\n      <td>-72.571222</td>\n      <td>Elm Street Cemetery</td>\n    </tr>\n    <tr>\n      <th>11</th>\n      <td>9629</td>\n      <td>EAST MONTPELIER</td>\n      <td>44.283957</td>\n      <td>-72.453162</td>\n      <td>Cate Cemetery</td>\n    </tr>\n  </tbody>\n</table>\n</div>",
                        "text/plain": "    index        Town_Name   Latitude  Longitude  \\\n0     400  EAST MONTPELIER  44.284235 -72.452884   \n1     625  EAST MONTPELIER  44.276735 -72.500385   \n2    1894       MONTPELIER  44.264235 -72.563999   \n3    2076  EAST MONTPELIER  44.320900 -72.504831   \n4    3354  EAST MONTPELIER  44.272568 -72.555665   \n5    3547  EAST MONTPELIER  44.323678 -72.526221   \n6    3848  EAST MONTPELIER  44.268456 -72.486947   \n7    4472  EAST MONTPELIER  44.274513 -72.451217   \n8    4628  EAST MONTPELIER  44.268124 -72.504830   \n9    7042       MONTPELIER  44.257846 -72.596500   \n10   8410       MONTPELIER  44.264220 -72.571222   \n11   9629  EAST MONTPELIER  44.283957 -72.453162   \n\n                       Landmark_Name  \n0                      Cate Cemetery  \n1                     Quake Cemetery  \n2           Saint Augustine Cemetery  \n3                      Peck Cemetery  \n4                    Cutler Cemetery  \n5                      Pike Cemetery  \n6   East Montpelier Village Cemetery  \n7                 Plainmont Cemetery  \n8                   Bennett Cemetery  \n9               Green Mount Cemetery  \n10               Elm Street Cemetery  \n11                     Cate Cemetery  "
                    },
                    "execution_count": 108,
                    "metadata": {},
                    "output_type": "execute_result"
                }
            ],
            "source": "mont_top.reset_index()"
        },
        {
            "cell_type": "markdown",
            "metadata": {},
            "source": "# Obtain geocoords of Vermont"
        },
        {
            "cell_type": "code",
            "execution_count": 109,
            "metadata": {},
            "outputs": [
                {
                    "name": "stdout",
                    "output_type": "stream",
                    "text": "The geographical coordinates of VT are 44.260445, -72.575684.\n"
                }
            ],
            "source": "address = 'Montpelier, VT'\ngeolocator = Nominatim(user_agent = \"vt_explorer\")\nlocation = geolocator.geocode(address)\nlatitude = location.latitude\nlongitude = location.longitude\nprint('The geographical coordinates of VT are {}, {}.'.format(latitude, longitude))"
        },
        {
            "cell_type": "markdown",
            "metadata": {},
            "source": "## Create Vermont State Map"
        },
        {
            "cell_type": "code",
            "execution_count": 134,
            "metadata": {},
            "outputs": [
                {
                    "data": {
                        "text/html": "<div style=\"width:100%;\"><div style=\"position:relative;width:100%;height:0;padding-bottom:60%;\"><span style=\"color:#565656\">Make this Notebook Trusted to load map: File -> Trust Notebook</span><iframe src=\"about:blank\" style=\"position:absolute;width:100%;height:100%;left:0;top:0;border:none !important;\" data-html=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 onload=\"this.contentDocument.open();this.contentDocument.write(atob(this.getAttribute('data-html')));this.contentDocument.close();\" allowfullscreen webkitallowfullscreen mozallowfullscreen></iframe></div></div>",
                        "text/plain": "<folium.folium.Map at 0x7f694a290898>"
                    },
                    "execution_count": 134,
                    "metadata": {},
                    "output_type": "execute_result"
                }
            ],
            "source": "map_vermont = folium.Map(location=[latitude, longitude], zoom_start=10)\nmap_vermont"
        },
        {
            "cell_type": "code",
            "execution_count": 135,
            "metadata": {
                "scrolled": false
            },
            "outputs": [
                {
                    "data": {
                        "text/html": "<div style=\"width:100%;\"><div style=\"position:relative;width:100%;height:0;padding-bottom:60%;\"><span style=\"color:#565656\">Make this Notebook Trusted to load map: File -> Trust Notebook</span><iframe src=\"about:blank\" style=\"position:absolute;width:100%;height:100%;left:0;top:0;border:none !important;\" data-html=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 onload=\"this.contentDocument.open();this.contentDocument.write(atob(this.getAttribute('data-html')));this.contentDocument.close();\" allowfullscreen webkitallowfullscreen mozallowfullscreen></iframe></div></div>",
                        "text/plain": "<folium.folium.Map at 0x7f694a290898>"
                    },
                    "execution_count": 135,
                    "metadata": {},
                    "output_type": "execute_result"
                }
            ],
            "source": "for landmark_lat, landmark_lon, town_name, landmark_name in zip(mont_top['Latitude'], mont_top['Longitude'], mont_top['Town_Name'], mont_top['Landmark_Name']):\n    label = '{},{}.format(landmark_name, town_name), label = folium.Popup(label, parse_html=True)'\n    folium.CircleMarker(\n    [landmark_lat, landmark_lon],\n    radius=5,\n    popup=label,\n    color='blue',\n    fill=True,\n    fill_color='#3186cc',\n    fill_opacity=0.7,\n    parse_html=False).add_to(map_vermont)\n\nmap_vermont\n"
        },
        {
            "cell_type": "markdown",
            "metadata": {},
            "source": "## Adding Foursquare Cemetery Data"
        },
        {
            "cell_type": "code",
            "execution_count": 112,
            "metadata": {},
            "outputs": [
                {
                    "name": "stdout",
                    "output_type": "stream",
                    "text": "your credentials:\nCLIENT_ID:TYOE2PA2DTXDMAGWSP2ZJ4SW4I03FVVRIWTKFKHMZTMOLGCK\nCLIENTSECRET:TY0BIHFFL2CAGKPSJI142XJYNJVGZCGZA1Q53L2BRAJZFOYE\n"
                }
            ],
            "source": "CLIENT_ID = 'TYOE2PA2DTXDMAGWSP2ZJ4SW4I03FVVRIWTKFKHMZTMOLGCK'\nCLIENT_SECRET = 'TY0BIHFFL2CAGKPSJI142XJYNJVGZCGZA1Q53L2BRAJZFOYE'\nVERSION = '20200821'\nLIMIT = 100\n\nprint('your credentials:')\nprint('CLIENT_ID:' + CLIENT_ID)\nprint('CLIENTSECRET:' + CLIENT_SECRET)"
        },
        {
            "cell_type": "code",
            "execution_count": 113,
            "metadata": {},
            "outputs": [
                {
                    "name": "stdout",
                    "output_type": "stream",
                    "text": "44.260445 -72.575684\n"
                }
            ],
            "source": "address = 'Montpelier, VT'\n\ngeolocator = Nominatim(user_agent = \"foursquare_agent\")\nlocation = geolocator.geocode(address)\nlatitude = location.latitude\nlongitude = location.longitude\nprint(latitude, longitude)\n"
        },
        {
            "cell_type": "code",
            "execution_count": 114,
            "metadata": {},
            "outputs": [
                {
                    "ename": "SyntaxError",
                    "evalue": "invalid syntax (<ipython-input-114-5f29cffc51f3>, line 1)",
                    "output_type": "error",
                    "traceback": [
                        "\u001b[0;36m  File \u001b[0;32m\"<ipython-input-114-5f29cffc51f3>\"\u001b[0;36m, line \u001b[0;32m1\u001b[0m\n\u001b[0;31m    https://api.foursquare.com/v2/venues/search?&client_id=CLIENT_ID&client_secret=CLIENT_SECRET&ll=LATITUDE, LONGITUDE&v=VERSION&query=QUERY&radius=RADIUS&Limit=LIMIT\u001b[0m\n\u001b[0m           ^\u001b[0m\n\u001b[0;31mSyntaxError\u001b[0m\u001b[0;31m:\u001b[0m invalid syntax\n"
                    ]
                }
            ],
            "source": "https://api.foursquare.com/v2/venues/search?&client_id=CLIENT_ID&client_secret=CLIENT_SECRET&ll=LATITUDE, LONGITUDE&v=VERSION&query=QUERY&radius=RADIUS&Limit=LIMIT"
        },
        {
            "cell_type": "code",
            "execution_count": 115,
            "metadata": {},
            "outputs": [
                {
                    "name": "stdout",
                    "output_type": "stream",
                    "text": "cemetery... ok!\n"
                }
            ],
            "source": "search_query = 'cemetery'\nradius = 500\nprint(search_query + '... ok!')"
        },
        {
            "cell_type": "code",
            "execution_count": 116,
            "metadata": {},
            "outputs": [
                {
                    "data": {
                        "text/plain": "'https://api.foursquare.com/v2/venues/search?client_id=TYOE2PA2DTXDMAGWSP2ZJ4SW4I03FVVRIWTKFKHMZTMOLGCK&client_secret=TY0BIHFFL2CAGKPSJI142XJYNJVGZCGZA1Q53L2BRAJZFOYE&ll=44.260445,-72.575684&v=20200821&query=cemetery&radius=500&limit=100'"
                    },
                    "execution_count": 116,
                    "metadata": {},
                    "output_type": "execute_result"
                }
            ],
            "source": "url = 'https://api.foursquare.com/v2/venues/search?client_id={}&client_secret={}&ll={},{}&v={}&query={}&radius={}&limit={}'.format(CLIENT_ID, CLIENT_SECRET, latitude, longitude, VERSION, search_query, radius, LIMIT)\nurl"
        },
        {
            "cell_type": "code",
            "execution_count": 138,
            "metadata": {},
            "outputs": [
                {
                    "data": {
                        "text/plain": "{'meta': {'code': 200, 'requestId': '5f3fce6cc7db23607229aa6b'},\n 'response': {'venues': [{'id': '4f3dd723e4b0d0c630fa741d',\n    'name': 'Elm Street Cemetery',\n    'location': {'address': '666 Elm St',\n     'lat': 44.26412148570193,\n     'lng': -72.5715832918743,\n     'labeledLatLngs': [{'label': 'display',\n       'lat': 44.26412148570193,\n       'lng': -72.5715832918743}],\n     'distance': 523,\n     'postalCode': '05602',\n     'cc': 'US',\n     'city': 'Montpelier',\n     'state': 'VT',\n     'country': 'United States',\n     'formattedAddress': ['666 Elm St',\n      'Montpelier, VT 05602',\n      'United States']},\n    'categories': [{'id': '4bf58dd8d48988d15c941735',\n      'name': 'Cemetery',\n      'pluralName': 'Cemeteries',\n      'shortName': 'Cemetery',\n      'icon': {'prefix': 'https://ss3.4sqi.net/img/categories_v2/parks_outdoors/cemetery_',\n       'suffix': '.png'},\n      'primary': True}],\n    'referralId': 'v-1598017301',\n    'hasPerk': False}]}}"
                    },
                    "execution_count": 138,
                    "metadata": {},
                    "output_type": "execute_result"
                }
            ],
            "source": "results=requests.get(url).json()\nresults"
        },
        {
            "cell_type": "markdown",
            "metadata": {},
            "source": "## structure the foursquare results into pandas df"
        },
        {
            "cell_type": "code",
            "execution_count": 139,
            "metadata": {},
            "outputs": [
                {
                    "data": {
                        "text/html": "<div>\n<style scoped>\n    .dataframe tbody tr th:only-of-type {\n        vertical-align: middle;\n    }\n\n    .dataframe tbody tr th {\n        vertical-align: top;\n    }\n\n    .dataframe thead th {\n        text-align: right;\n    }\n</style>\n<table border=\"1\" class=\"dataframe\">\n  <thead>\n    <tr style=\"text-align: right;\">\n      <th></th>\n      <th>categories</th>\n      <th>hasPerk</th>\n      <th>id</th>\n      <th>location.address</th>\n      <th>location.cc</th>\n      <th>location.city</th>\n      <th>location.country</th>\n      <th>location.distance</th>\n      <th>location.formattedAddress</th>\n      <th>location.labeledLatLngs</th>\n      <th>location.lat</th>\n      <th>location.lng</th>\n      <th>location.postalCode</th>\n      <th>location.state</th>\n      <th>name</th>\n      <th>referralId</th>\n    </tr>\n  </thead>\n  <tbody>\n    <tr>\n      <th>0</th>\n      <td>[{'id': '4bf58dd8d48988d15c941735', 'name': 'C...</td>\n      <td>False</td>\n      <td>4f3dd723e4b0d0c630fa741d</td>\n      <td>666 Elm St</td>\n      <td>US</td>\n      <td>Montpelier</td>\n      <td>United States</td>\n      <td>523</td>\n      <td>[666 Elm St, Montpelier, VT 05602, United States]</td>\n      <td>[{'label': 'display', 'lat': 44.26412148570193...</td>\n      <td>44.264121</td>\n      <td>-72.571583</td>\n      <td>05602</td>\n      <td>VT</td>\n      <td>Elm Street Cemetery</td>\n      <td>v-1598017301</td>\n    </tr>\n  </tbody>\n</table>\n</div>",
                        "text/plain": "                                          categories  hasPerk  \\\n0  [{'id': '4bf58dd8d48988d15c941735', 'name': 'C...    False   \n\n                         id location.address location.cc location.city  \\\n0  4f3dd723e4b0d0c630fa741d       666 Elm St          US    Montpelier   \n\n  location.country  location.distance  \\\n0    United States                523   \n\n                           location.formattedAddress  \\\n0  [666 Elm St, Montpelier, VT 05602, United States]   \n\n                             location.labeledLatLngs  location.lat  \\\n0  [{'label': 'display', 'lat': 44.26412148570193...     44.264121   \n\n   location.lng location.postalCode location.state                 name  \\\n0    -72.571583               05602             VT  Elm Street Cemetery   \n\n     referralId  \n0  v-1598017301  "
                    },
                    "execution_count": 139,
                    "metadata": {},
                    "output_type": "execute_result"
                }
            ],
            "source": "venues = results[\"response\"][\"venues\"]\ndataframe=json_normalize(venues)\ndataframe.head()"
        },
        {
            "cell_type": "markdown",
            "metadata": {},
            "source": "## filtering the columns to show mostly just location data"
        },
        {
            "cell_type": "code",
            "execution_count": 140,
            "metadata": {},
            "outputs": [
                {
                    "data": {
                        "text/html": "<div>\n<style scoped>\n    .dataframe tbody tr th:only-of-type {\n        vertical-align: middle;\n    }\n\n    .dataframe tbody tr th {\n        vertical-align: top;\n    }\n\n    .dataframe thead th {\n        text-align: right;\n    }\n</style>\n<table border=\"1\" class=\"dataframe\">\n  <thead>\n    <tr style=\"text-align: right;\">\n      <th></th>\n      <th>name</th>\n      <th>location.address</th>\n      <th>location.cc</th>\n      <th>location.city</th>\n      <th>location.country</th>\n      <th>location.distance</th>\n      <th>location.formattedAddress</th>\n      <th>location.labeledLatLngs</th>\n      <th>location.lat</th>\n      <th>location.lng</th>\n      <th>location.postalCode</th>\n      <th>location.state</th>\n      <th>id</th>\n    </tr>\n  </thead>\n  <tbody>\n    <tr>\n      <th>0</th>\n      <td>Elm Street Cemetery</td>\n      <td>666 Elm St</td>\n      <td>US</td>\n      <td>Montpelier</td>\n      <td>United States</td>\n      <td>523</td>\n      <td>[666 Elm St, Montpelier, VT 05602, United States]</td>\n      <td>[{'label': 'display', 'lat': 44.26412148570193...</td>\n      <td>44.264121</td>\n      <td>-72.571583</td>\n      <td>05602</td>\n      <td>VT</td>\n      <td>4f3dd723e4b0d0c630fa741d</td>\n    </tr>\n  </tbody>\n</table>\n</div>",
                        "text/plain": "                  name location.address location.cc location.city  \\\n0  Elm Street Cemetery       666 Elm St          US    Montpelier   \n\n  location.country  location.distance  \\\n0    United States                523   \n\n                           location.formattedAddress  \\\n0  [666 Elm St, Montpelier, VT 05602, United States]   \n\n                             location.labeledLatLngs  location.lat  \\\n0  [{'label': 'display', 'lat': 44.26412148570193...     44.264121   \n\n   location.lng location.postalCode location.state                        id  \n0    -72.571583               05602             VT  4f3dd723e4b0d0c630fa741d  "
                    },
                    "execution_count": 140,
                    "metadata": {},
                    "output_type": "execute_result"
                }
            ],
            "source": "filtered_columns = ['name']+[col for col in dataframe.columns if col.startswith('location')]+['id']\ndataframe_filtered=dataframe.loc[:, filtered_columns]\ndataframe_filtered"
        },
        {
            "cell_type": "markdown",
            "metadata": {},
            "source": "## clean columns"
        },
        {
            "cell_type": "code",
            "execution_count": 141,
            "metadata": {},
            "outputs": [
                {
                    "data": {
                        "text/html": "<div>\n<style scoped>\n    .dataframe tbody tr th:only-of-type {\n        vertical-align: middle;\n    }\n\n    .dataframe tbody tr th {\n        vertical-align: top;\n    }\n\n    .dataframe thead th {\n        text-align: right;\n    }\n</style>\n<table border=\"1\" class=\"dataframe\">\n  <thead>\n    <tr style=\"text-align: right;\">\n      <th></th>\n      <th>categories</th>\n      <th>hasPerk</th>\n      <th>id</th>\n      <th>address</th>\n      <th>cc</th>\n      <th>city</th>\n      <th>country</th>\n      <th>distance</th>\n      <th>formattedAddress</th>\n      <th>labeledLatLngs</th>\n      <th>lat</th>\n      <th>lng</th>\n      <th>postalCode</th>\n      <th>state</th>\n      <th>name</th>\n      <th>referralId</th>\n    </tr>\n  </thead>\n  <tbody>\n    <tr>\n      <th>0</th>\n      <td>[{'id': '4bf58dd8d48988d15c941735', 'name': 'C...</td>\n      <td>False</td>\n      <td>4f3dd723e4b0d0c630fa741d</td>\n      <td>666 Elm St</td>\n      <td>US</td>\n      <td>Montpelier</td>\n      <td>United States</td>\n      <td>523</td>\n      <td>[666 Elm St, Montpelier, VT 05602, United States]</td>\n      <td>[{'label': 'display', 'lat': 44.26412148570193...</td>\n      <td>44.264121</td>\n      <td>-72.571583</td>\n      <td>05602</td>\n      <td>VT</td>\n      <td>Elm Street Cemetery</td>\n      <td>v-1598017301</td>\n    </tr>\n  </tbody>\n</table>\n</div>",
                        "text/plain": "                                          categories  hasPerk  \\\n0  [{'id': '4bf58dd8d48988d15c941735', 'name': 'C...    False   \n\n                         id     address  cc        city        country  \\\n0  4f3dd723e4b0d0c630fa741d  666 Elm St  US  Montpelier  United States   \n\n   distance                                   formattedAddress  \\\n0       523  [666 Elm St, Montpelier, VT 05602, United States]   \n\n                                      labeledLatLngs        lat        lng  \\\n0  [{'label': 'display', 'lat': 44.26412148570193...  44.264121 -72.571583   \n\n  postalCode state                 name    referralId  \n0      05602    VT  Elm Street Cemetery  v-1598017301  "
                    },
                    "execution_count": 141,
                    "metadata": {},
                    "output_type": "execute_result"
                }
            ],
            "source": "dataframe.columns=[col.split(\".\")[-1]for col in dataframe.columns]\ndataframe"
        },
        {
            "cell_type": "code",
            "execution_count": 146,
            "metadata": {},
            "outputs": [
                {
                    "data": {
                        "text/html": "<div>\n<style scoped>\n    .dataframe tbody tr th:only-of-type {\n        vertical-align: middle;\n    }\n\n    .dataframe tbody tr th {\n        vertical-align: top;\n    }\n\n    .dataframe thead th {\n        text-align: right;\n    }\n</style>\n<table border=\"1\" class=\"dataframe\">\n  <thead>\n    <tr style=\"text-align: right;\">\n      <th></th>\n      <th>categories</th>\n      <th>hasPerk</th>\n      <th>id</th>\n      <th>address</th>\n      <th>cc</th>\n      <th>city</th>\n      <th>country</th>\n      <th>distance</th>\n      <th>formattedAddress</th>\n      <th>labeledLatLngs</th>\n      <th>lat</th>\n      <th>lng</th>\n      <th>postalCode</th>\n      <th>state</th>\n      <th>name</th>\n      <th>referralId</th>\n    </tr>\n  </thead>\n  <tbody>\n    <tr>\n      <th>0</th>\n      <td>[{'id': '4bf58dd8d48988d15c941735', 'name': 'C...</td>\n      <td>False</td>\n      <td>4f3dd723e4b0d0c630fa741d</td>\n      <td>666 Elm St</td>\n      <td>US</td>\n      <td>Montpelier</td>\n      <td>United States</td>\n      <td>523</td>\n      <td>[666 Elm St, Montpelier, VT 05602, United States]</td>\n      <td>[{'label': 'display', 'lat': 44.26412148570193...</td>\n      <td>44.264121</td>\n      <td>-72.571583</td>\n      <td>05602</td>\n      <td>VT</td>\n      <td>Elm Street Cemetery</td>\n      <td>v-1598017301</td>\n    </tr>\n  </tbody>\n</table>\n</div>",
                        "text/plain": "                                          categories  hasPerk  \\\n0  [{'id': '4bf58dd8d48988d15c941735', 'name': 'C...    False   \n\n                         id     address  cc        city        country  \\\n0  4f3dd723e4b0d0c630fa741d  666 Elm St  US  Montpelier  United States   \n\n   distance                                   formattedAddress  \\\n0       523  [666 Elm St, Montpelier, VT 05602, United States]   \n\n                                      labeledLatLngs        lat        lng  \\\n0  [{'label': 'display', 'lat': 44.26412148570193...  44.264121 -72.571583   \n\n  postalCode state                 name    referralId  \n0      05602    VT  Elm Street Cemetery  v-1598017301  "
                    },
                    "execution_count": 146,
                    "metadata": {},
                    "output_type": "execute_result"
                }
            ],
            "source": "dataframe"
        },
        {
            "cell_type": "markdown",
            "metadata": {},
            "source": "## Simplify the dataframe to essential data"
        },
        {
            "cell_type": "code",
            "execution_count": 159,
            "metadata": {},
            "outputs": [
                {
                    "data": {
                        "text/html": "<div>\n<style scoped>\n    .dataframe tbody tr th:only-of-type {\n        vertical-align: middle;\n    }\n\n    .dataframe tbody tr th {\n        vertical-align: top;\n    }\n\n    .dataframe thead th {\n        text-align: right;\n    }\n</style>\n<table border=\"1\" class=\"dataframe\">\n  <thead>\n    <tr style=\"text-align: right;\">\n      <th></th>\n      <th>name</th>\n      <th>lat</th>\n      <th>lng</th>\n    </tr>\n  </thead>\n  <tbody>\n    <tr>\n      <th>0</th>\n      <td>Elm Street Cemetery</td>\n      <td>44.264121</td>\n      <td>-72.571583</td>\n    </tr>\n  </tbody>\n</table>\n</div>",
                        "text/plain": "                  name        lat        lng\n0  Elm Street Cemetery  44.264121 -72.571583"
                    },
                    "execution_count": 159,
                    "metadata": {},
                    "output_type": "execute_result"
                }
            ],
            "source": "foursq_cemetery = dataframe[['name','lat','lng']]\nfoursq_cemetery"
        },
        {
            "cell_type": "markdown",
            "metadata": {},
            "source": "## Plotting the Foursquare results on a folium map"
        },
        {
            "cell_type": "code",
            "execution_count": 162,
            "metadata": {},
            "outputs": [
                {
                    "data": {
                        "text/html": "<div style=\"width:100%;\"><div style=\"position:relative;width:100%;height:0;padding-bottom:60%;\"><span style=\"color:#565656\">Make this Notebook Trusted to load map: File -> Trust Notebook</span><iframe src=\"about:blank\" style=\"position:absolute;width:100%;height:100%;left:0;top:0;border:none !important;\" data-html=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 onload=\"this.contentDocument.open();this.contentDocument.write(atob(this.getAttribute('data-html')));this.contentDocument.close();\" allowfullscreen webkitallowfullscreen mozallowfullscreen></iframe></div></div>",
                        "text/plain": "<folium.folium.Map at 0x7f69496ad860>"
                    },
                    "execution_count": 162,
                    "metadata": {},
                    "output_type": "execute_result"
                }
            ],
            "source": "map_osm = folium.Map(location=[44.260445, -72.575684])\nfoursq_cemetery.apply(lambda row:folium.CircleMarker(location=[row[\"lat\"], \n                                                  row[\"lng\"]]).add_to(map_osm),\n     axis=1)\nmap_osm"
        },
        {
            "cell_type": "markdown",
            "metadata": {},
            "source": "# Conclusion"
        },
        {
            "cell_type": "markdown",
            "metadata": {},
            "source": "### In comparing the plotted Foursquare results for cemeteries in the Montpelier area against the plotted results for cemeteries from the Vermont.gov website landmark data, we see that Foursquare only shows one cemetery -- even though according to Vermont.gov there are 20 cemeteries in the Montpelier area. As a Vermont Department of Tourism analyst, I would suggest expanding the comparison of these two data sources to cover the entire state of Vermont, and then send all missing data to Foursquare for incorporation in their dataset. "
        },
        {
            "cell_type": "code",
            "execution_count": null,
            "metadata": {},
            "outputs": [],
            "source": ""
        }
    ],
    "metadata": {
        "kernelspec": {
            "display_name": "Python 3.6",
            "language": "python",
            "name": "python3"
        },
        "language_info": {
            "codemirror_mode": {
                "name": "ipython",
                "version": 3
            },
            "file_extension": ".py",
            "mimetype": "text/x-python",
            "name": "python",
            "nbconvert_exporter": "python",
            "pygments_lexer": "ipython3",
            "version": "3.6.9"
        }
    },
    "nbformat": 4,
    "nbformat_minor": 1
}